{
  "nbformat": 4,
  "nbformat_minor": 0,
  "metadata": {
    "colab": {
      "provenance": []
    },
    "kernelspec": {
      "name": "python3",
      "display_name": "Python 3"
    },
    "language_info": {
      "name": "python"
    }
  },
  "cells": [
    {
      "cell_type": "markdown",
      "source": [
        "# 🧠 Chatbot RAG con Memoria para E-commerce  – por Mauricio Rostagno\n",
        "\n",
        "Este proyecto es un prototipo funcional de **chatbot inteligente** desarrollado como parte de mi portafolio de aplicaciones con inteligencia artificial y lenguaje natural. Uso a modo de simulación la necesidad de asistir a clientas de un emprendimiento online, pero puede adaptarse fácilmente a cualquier comercio que quiera ofrecer atención automatizada por redes o web.\n",
        "\n",
        "---\n",
        "\n",
        "## ⚙️ Tecnologías utilizadas\n",
        "\n",
        "- **LangChain**: Framework modular para construir agentes y pipelines con LLMs.\n",
        "- **ChromaDB**: Vector store local para almacenar embeddings y realizar búsquedas semánticas.\n",
        "- **HuggingFace Transformers**: Para usar modelos como `flan-t5-large` (entrenado para tareas de texto).\n",
        "- **Groq + LLaMA3**: Modelo de lenguaje potente, rápido y gratuito para generar respuestas naturales.\n",
        "- **Python + Google Colab**: Desarrollo y ejecución del prototipo.\n",
        "\n",
        "---\n",
        "\n",
        "## 🧩 ¿Qué hace este chatbot?\n",
        "\n",
        "- Responde preguntas sobre el negocio, productos y formas de pago.\n",
        "- Recupera contexto relevante con un pipeline **RAG (Retrieval-Augmented Generation)**.\n",
        "- Usa **memoria conversacional** para mantener coherencia en el diálogo.\n",
        "\n",
        "\n",
        "---\n",
        "\n",
        "## 💡 Próximos pasos en los que trabajo\n",
        "\n",
        "- Integración con Google Sheets para leer productos actualizados.\n",
        "- Montaje de una interfaz visual (ej. Streamlit o Gradio).\n",
        "- Posible despliegue como asistente en redes sociales o WhatsApp Business.\n",
        "\n",
        "---\n",
        "\n",
        "📬 Contacto: rostagno.mj@gmail.com  \n",
        "🔗 GitHub: [@MauriRos](https://github.com/MauriRos)  \n",
        "🌐 LinkedIn: [linkedin.com/in/mauricio-rostagno](https://www.linkedin.com/in/mauricio-rostagno)\n"
      ],
      "metadata": {
        "id": "Id0vCvtlKo8K"
      }
    },
    {
      "cell_type": "markdown",
      "source": [
        "## 🔧 Paso 0: Instalación de librerías necesarias\n",
        "\n",
        "En esta celda instalamos todas las dependencias para construir nuestro chatbot RAG con memoria.\n",
        "\n",
        "Incluye:\n",
        "- `LangChain`: framework para aplicaciones con LLMs.\n",
        "- `ChromaDB` y `FAISS`: almacenamiento vectorial.\n",
        "- `Transformers`: modelos de lenguaje de Hugging Face.\n",
        "- `sentence-transformers`: modelos de embeddings.\n",
        "- `langchain-groq`: para conectarnos con el modelo LLaMA 3 desde la API de Groq.\n"
      ],
      "metadata": {
        "id": "2QNEd4xz-Tzo"
      }
    },
    {
      "cell_type": "code",
      "execution_count": null,
      "metadata": {
        "collapsed": true,
        "id": "I9RxmcJPKnqa"
      },
      "outputs": [],
      "source": [
        "# Instalamos las librerías necesarias\n",
        "!pip install langchain langchain-community langchain-core\n",
        "!pip install openai chromadb faiss-cpu tiktoken\n",
        "!pip install sentence-transformers\n",
        "!pip install transformers\n",
        "!pip install langchain-groq\n"
      ]
    },
    {
      "cell_type": "markdown",
      "source": [
        "## 📚 Paso 1: Importación de librerías\n",
        "\n",
        "En este bloque importamos todas las librerías que usaremos en el proyecto, tanto para manejo de datos como para crear la lógica del chatbot.\n",
        "\n",
        "Incluye:\n",
        "- Librerías de Python (`numpy`, `pandas`)\n",
        "- Componentes clave de `LangChain`\n",
        "- El pipeline de modelos de `transformers`\n"
      ],
      "metadata": {
        "id": "AYTR6nxc-Jda"
      }
    },
    {
      "cell_type": "code",
      "source": [
        "# Librerías básicas\n",
        "import numpy as np\n",
        "import pandas as pd\n",
        "\n",
        "# LangChain\n",
        "from langchain.schema import Document\n",
        "from langchain.text_splitter import CharacterTextSplitter\n",
        "from langchain.embeddings import HuggingFaceEmbeddings\n",
        "from langchain.vectorstores import Chroma, FAISS\n",
        "from langchain.llms import HuggingFacePipeline\n",
        "from langchain.prompts import PromptTemplate\n",
        "from langchain.chains import RetrievalQA\n",
        "from langchain.memory import ConversationBufferMemory\n",
        "from langchain_core.runnables import RunnablePassthrough\n",
        "from langchain_core.output_parsers import StrOutputParser\n",
        "\n",
        "# Transformers\n",
        "from transformers import pipeline\n"
      ],
      "metadata": {
        "id": "i29mpeeeKxYp"
      },
      "execution_count": null,
      "outputs": []
    },
    {
      "cell_type": "markdown",
      "source": [
        "## 🛍️ Paso 2: Definir la información del negocio\n",
        "\n",
        "Aquí cargamos los textos que contienen la información real de ViaéBags Marroquinería: qué productos vende, cómo se realizan los pagos y envíos, formas de contacto, etc.\n",
        "\n",
        "Estos textos serán utilizados como base de conocimiento del asistente virtual.\n"
      ],
      "metadata": {
        "id": "zf9nOhxd-fv5"
      }
    },
    {
      "cell_type": "code",
      "source": [
        "sample_texts = [\n",
        "   \"ViaéBags Marroquinería es un emprendimiento de Santa Fe que vende carteras, bolsos, mochilas y equipaje por Instagram.\",\n",
        "    \"No contamos con showroom ni local físico. Solo ofrecemos retiro por domicilio particular o envío a todo el país.\",\n",
        "    \"Realizamos envíos a cualquier parte de Argentina mediante servicios de correo o retiro por domicilio. No hay atención presencial.\",\n",
        "    \"Podés retirar por un punto de la ciudad de Santa Fe si estás cerca. Coordinamos el punto exacto por mensaje.\",\n",
        "    \"Aceptamos todos los medios de pago: tarjetas de crédito, débito, transferencias y Mercado Pago.\",\n",
        "    \"Consultanos por descuentos en efectivo o promociones especiales vigentes.\",\n",
        "    \"Vendemos varias marcas reconocidas y destacamos por tener los mejores precios del mercado.\",\n",
        "    \"Frecuentemente realizamos sorteos y promociones en nuestra cuenta de Instagram: @viae.bags.\",\n",
        "    \"Atendemos consultas por Instagram y por correo electrónico: viabagsonline@gmail.com.\",\n",
        "    \"Respondemos con amabilidad, claridad y cercanía todas las dudas sobre productos, precios, medios de pago y disponibilidad.\",\n",
        "    \"Podés consultarnos por catálogo de productos, disponibilidad de stock o promociones activas.\"\n",
        "]\n"
      ],
      "metadata": {
        "id": "kNwf3WsULray"
      },
      "execution_count": null,
      "outputs": []
    },
    {
      "cell_type": "markdown",
      "source": [
        "## 📄 Paso 3: Convertir textos en objetos `Document`\n",
        "\n",
        "Los textos cargados se convierten en objetos `Document`, un formato compatible con LangChain que permite luego procesarlos, dividirlos y vectorizarlos para el sistema de recuperación de información.\n",
        "\n",
        "Esto nos permite que cada fragmento tenga estructura y pueda usarse dentro del flujo RAG.\n"
      ],
      "metadata": {
        "id": "9BZRPbOK_AJ9"
      }
    },
    {
      "cell_type": "code",
      "source": [
        "from langchain.schema import Document\n",
        "\n",
        "# Convertimos los textos en objetos Document\n",
        "documents = [Document(page_content=text) for text in sample_texts]\n"
      ],
      "metadata": {
        "id": "bUCEmSSdL649"
      },
      "execution_count": null,
      "outputs": []
    },
    {
      "cell_type": "markdown",
      "source": [
        "## ✂️ Paso 4: Dividir textos en fragmentos (chunks)\n",
        "\n",
        "Dividimos cada documento en fragmentos de máximo 200 caracteres, con un solapamiento de 50. Esto mejora la recuperación posterior, ya que permite encontrar secciones más relevantes dentro del contexto original.\n",
        "\n",
        "LangChain se encarga automáticamente de cortar y preservar la coherencia del texto.\n"
      ],
      "metadata": {
        "id": "zdyLczWo_B6Z"
      }
    },
    {
      "cell_type": "code",
      "source": [
        "from langchain.text_splitter import CharacterTextSplitter\n",
        "\n",
        "# Creamos el splitter (divisor de texto)\n",
        "text_splitter = CharacterTextSplitter(\n",
        "    chunk_size=200,        # Máximo 200 caracteres por fragmento\n",
        "    chunk_overlap=50       # Solapamiento de 50 caracteres entre fragmentos\n",
        ")\n",
        "\n",
        "# Aplicamos el splitter a nuestros documentos\n",
        "chunked_documents = text_splitter.split_documents(documents)\n"
      ],
      "metadata": {
        "id": "DL2BdtBuRVP2"
      },
      "execution_count": null,
      "outputs": []
    },
    {
      "cell_type": "markdown",
      "source": [
        "## 🧠 Paso 5: Generar embeddings y crear la base vectorial\n",
        "\n",
        "En este paso transformamos los textos en vectores numéricos (embeddings) utilizando el modelo `all-MiniLM-L6-v2` de Hugging Face. Luego almacenamos esos vectores en una base vectorial llamada **ChromaDB**, que nos permitirá buscar información relevante a partir de una consulta.\n",
        "\n",
        "📦 Esta base queda guardada en el disco (`./chroma_db`) para reutilizarla más adelante.\n"
      ],
      "metadata": {
        "id": "_XolYGrqDhXm"
      }
    },
    {
      "cell_type": "code",
      "source": [
        "from langchain.embeddings import HuggingFaceEmbeddings\n",
        "from langchain.vectorstores import Chroma\n",
        "\n",
        "# Creamos el modelo de embeddings\n",
        "embedding_model = HuggingFaceEmbeddings(model_name=\"sentence-transformers/all-MiniLM-L6-v2\")\n",
        "persist_dir = \"./chroma_db\"\n",
        "# Creamos la base vectorial con ChromaDB\n",
        "chroma_db = Chroma.from_documents(documents=chunked_documents, embedding=embedding_model, persist_directory=persist_dir)\n",
        "\n",
        "chroma_db.persist()\n"
      ],
      "metadata": {
        "id": "ayMqZICySVMH"
      },
      "execution_count": null,
      "outputs": []
    },
    {
      "cell_type": "markdown",
      "source": [
        "## ⚡ Paso 6: Conectar el modelo LLaMA 3 vía Groq\n",
        "\n",
        "En esta celda conectamos nuestro chatbot a la API de **Groq**, que nos permite usar el modelo **LLaMA 3** de forma gratuita y extremadamente rápida.\n",
        "\n",
        "El modelo se invoca a través del componente `ChatGroq`, que se integra fácilmente con LangChain. Esta es la inteligencia central que va a generar las respuestas.\n"
      ],
      "metadata": {
        "id": "vePY9-_wDlkz"
      }
    },
    {
      "cell_type": "code",
      "source": [
        "# 📦 Requiere instalar groq primero (ya lo hiciste, si no: !pip install groq)\n",
        "from langchain_groq import ChatGroq\n",
        "import os\n",
        "\n",
        "# Pegá tu Groq API key\n",
        "os.environ[\"GROQ_API_KEY\"] = \"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\"  # ← reemplazá esto por tu key real\n",
        "\n",
        "# Crear el LLM de Groq usando LLaMA3\n",
        "llm = ChatGroq(\n",
        "    groq_api_key=os.environ[\"GROQ_API_KEY\"],\n",
        "    model_name=\"llama3-8b-8192\"\n",
        ")\n"
      ],
      "metadata": {
        "id": "FPRdSmrMTZ2G"
      },
      "execution_count": null,
      "outputs": []
    },
    {
      "cell_type": "markdown",
      "source": [
        "## 🧩 Paso 7: Crear el prompt, el retriever y el pipeline RAG\n",
        "\n",
        "En este bloque definimos tres componentes clave:\n",
        "\n",
        "- **Prompt personalizado:** Le da instrucciones al modelo sobre cómo debe responder, incluyendo el tono y el contexto.\n",
        "- **Retriever:** Recupera fragmentos relevantes desde la base Chroma a partir de la consulta del usuario.\n",
        "- **Pipeline RAG (Retrieval-Augmented Generation):** Une todo en una cadena secuencial: recibe una pregunta, recupera contexto, construye el prompt y genera una respuesta.\n",
        "\n",
        "Además, agregamos un paso intermedio para **mostrar el prompt por consola**, ideal para debugging y entender qué está viendo el modelo.\n"
      ],
      "metadata": {
        "id": "PkcQbXu1Dqvd"
      }
    },
    {
      "cell_type": "code",
      "source": [
        "from langchain_core.runnables import RunnablePassthrough, RunnableMap\n",
        "from langchain_core.output_parsers import StrOutputParser\n",
        "from langchain_core.runnables import RunnableLambda\n",
        "from langchain_core.runnables import RunnableLambda\n",
        "\n",
        "# 1. Crear un prompt template (como antes)\n",
        "from langchain.prompts import PromptTemplate\n",
        "\n",
        "prompt_template = PromptTemplate(\n",
        "    input_variables=[\"context\", \"question\"],\n",
        "    template=\"\"\"\n",
        "Sos un asistente virtual de ViaéBags Marroquinería, una tienda de carteras y bolsos.\n",
        "Respondé con claridad y solo usando esta información:\n",
        "\n",
        "{context}\n",
        "\n",
        "Pregunta: {question}\n",
        "\n",
        "Respuesta:\n",
        "\"\"\"\n",
        ")\n",
        "\n",
        "# Esta función une el contexto y la pregunta en un string prompt listo para el modelo\n",
        "build_prompt = RunnableLambda(lambda x: prompt_template.format(**x))\n",
        "\n",
        "# 2. Crear el retriever\n",
        "retriever = chroma_db.as_retriever(search_type=\"similarity\", search_kwargs={\"k\": 2})\n",
        "\n",
        "\n",
        "# Función que extrae la pregunta del input completo\n",
        "#extract_question = RunnableLambda(lambda x: x[\"question\"])\n",
        "\n",
        "# Procesar el contexto para convertir documentos a texto plano\n",
        "def extract_context(docs):\n",
        "    if isinstance(docs, list):\n",
        "        return \"\\n\".join([doc.page_content for doc in docs])\n",
        "    return docs\n",
        "\n",
        "extract_context_lambda = RunnableLambda(extract_context)\n",
        "\n",
        "from langchain_core.runnables import RunnableLambda\n",
        "\n",
        "# Esto te muestra por pantalla el prompt que se le envía al modelo\n",
        "debug_prompt = RunnableLambda(lambda x: print(\"📤 Prompt al modelo:\\n\", x) or x)\n",
        "\n",
        "# Creamos la nueva cadena con filtro\n",
        "rag_chain = (\n",
        "    {\n",
        "        \"context\": extract_question | retriever | extract_context_lambda,\n",
        "        \"question\": extract_question\n",
        "    }\n",
        "    | build_prompt\n",
        "    #| debug_prompt\n",
        "    | llm\n",
        "    | StrOutputParser()\n",
        ")\n"
      ],
      "metadata": {
        "id": "isfbLkFmYMix"
      },
      "execution_count": null,
      "outputs": []
    },
    {
      "cell_type": "markdown",
      "source": [
        "## 🧠 Paso 8: Incorporar memoria conversacional\n",
        "\n",
        "Este paso nos permite que el chatbot recuerde los mensajes anteriores de cada usuario. Así se logra una conversación más coherente, donde el modelo puede responder de forma contextual.\n",
        "\n",
        "🔁 Usamos `RunnableWithMessageHistory` para conectar el pipeline RAG con un historial de chat en memoria. Esto asocia cada sesión de usuario (por ejemplo: `\"cliente123\"`) con su conversación previa.\n",
        "\n",
        "Finalmente, hacemos una primera prueba enviando la pregunta: `\"¿Puedo pagar con tarjeta?\"`.\n"
      ],
      "metadata": {
        "id": "U1viQ-FOTVtL"
      }
    },
    {
      "cell_type": "code",
      "source": [
        "from langchain.memory.chat_message_histories.in_memory import ChatMessageHistory\n",
        "from langchain_core.messages import HumanMessage, AIMessage\n",
        "from langchain_core.runnables.history import RunnableWithMessageHistory\n",
        "from langchain.memory.chat_message_histories.in_memory import ChatMessageHistory\n",
        "\n",
        "def get_message_history(session_id: str):\n",
        "    return ChatMessageHistory()\n",
        "rag_with_memory = RunnableWithMessageHistory(\n",
        "    rag_chain,\n",
        "    get_message_history,\n",
        "    input_messages_key=\"question\",\n",
        "    history_messages_key=\"history\"\n",
        ")\n",
        "response = rag_with_memory.invoke(\n",
        "    {\"question\": \"¿Puedo pagar con tarjeta?\"},\n",
        "    config={\"configurable\": {\"session_id\": \"cliente123\"}}\n",
        ")\n",
        "print(\"🤖\", response)\n",
        "\n"
      ],
      "metadata": {
        "colab": {
          "base_uri": "https://localhost:8080/"
        },
        "id": "egp6spRqkjNt",
        "outputId": "9237974b-2193-4fa1-bc20-2a352fa4b7db"
      },
      "execution_count": null,
      "outputs": [
        {
          "output_type": "stream",
          "name": "stdout",
          "text": [
            "🤖 ¡Claro! En ViaéBags Marroquinería, aceptamos pagos con tarjeta. Podrás elegir entre varias opciones de pago seguras y convenientes para ti. ¡No hay mejor manera de disfrutar de nuestros productos reconocidos y de nuestras ofertas exclusivas que con la comodidad de pagar con tarjeta!\n"
          ]
        }
      ]
    },
    {
      "cell_type": "code",
      "source": [
        "response = rag_with_memory.invoke(\n",
        "    {\"question\": \"¿Qué productos venden?\"},\n",
        "    config={\"configurable\": {\"session_id\": \"cliente1\"}}\n",
        ")\n",
        "print(\"🤖\", response)\n",
        "\n",
        "response = rag_with_memory.invoke(\n",
        "    {\"question\": \"¿Puedo pagar con tarjeta?\"},\n",
        "    config={\"configurable\": {\"session_id\": \"cliente1\"}}\n",
        ")\n",
        "print(\"🤖\", response)\n",
        "\n",
        "response = rag_with_memory.invoke(\n",
        "    {\"question\": \"¿Y si quiero devolverlo?\"},\n",
        "    config={\"configurable\": {\"session_id\": \"cliente1\"}}\n",
        ")\n",
        "print(\"🤖\", response)\n",
        "\n",
        "response = rag_with_memory.invoke(\n",
        "    {\"question\": \"¿Dónde se puede retirar?\"},\n",
        "    config={\"configurable\": {\"session_id\": \"cliente1\"}}\n",
        ")\n",
        "print(\"🤖\", response)\n",
        "\n",
        "\n"
      ],
      "metadata": {
        "colab": {
          "base_uri": "https://localhost:8080/"
        },
        "id": "LNB7ceS-YQHJ",
        "outputId": "8ff92793-b3ea-4e21-91b4-a31ed4a55bb0"
      },
      "execution_count": null,
      "outputs": [
        {
          "output_type": "stream",
          "name": "stdout",
          "text": [
            "🤖 ¡Hola! En ViaéBags Marroquinería, vendemos una amplia variedad de productos relacionados con carteras y bolsos. Ofrecemos una selección de modelos de carteras para hombres y mujeres, desde pequeñas bolsas de mano hasta grandes bolsos de viaje. También tenemos una gran variedad de accesorios, como cinturones, corbata y otros complementos para completar tu look. ¡Si necesitas algo en particular, no dudes en preguntar!\n",
            "🤖 ¡Claro! En ViaéBags Marroquinería, aceptamos pagos con tarjeta de crédito o débito, ofreciendo la mayor comodidad y seguridad para tus compras.\n",
            "🤖 Excelente elección! En ViaéBags Marroquinería, nos esforzamos por ofrecer productos de alta calidad y precios competitivos. Si deseas devolver un producto, no hay problema. Puedes hacerlo dentro de un plazo de [insertar plazo de devolución] después de la fecha de compra, siempre y cuando el producto esté en perfecto estado y tenga todos los elementos originales. Debes presentar la factura y el producto en nuestra tienda para iniciar el proceso de devolución. ¡No dudes en preguntar!\n",
            "🤖 ¡Hola! En ViaéBags Marroquinería, podemos enviar los productos directamente a tu domicilio, sin necesidad de retirarlos en tienda. Sin embargo, si deseas retirar tu compra en persona, podemos proporcionarte información sobre nuestras tiendas físicas. ¿Podrías decirme en qué ubicación te gustaría retirar el producto?\n"
          ]
        }
      ]
    }
  ]
}